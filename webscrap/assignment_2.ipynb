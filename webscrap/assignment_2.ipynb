{
 "cells": [
  {
   "cell_type": "code",
   "execution_count": null,
   "id": "174e3f73",
   "metadata": {},
   "outputs": [],
   "source": [
    "import pandas as pd\n",
    "import selenium\n",
    "from selenium import webdriver\n",
    "from selenium.webdriver.common.by import By\n",
    "from selenium.common.exceptions import StaleElementReferenceException, NoSuchElementException\n",
    "import time\n",
    "\n",
    "import warnings\n",
    "warnings.filterwarnings('ignore')"
   ]
  },
  {
   "cell_type": "code",
   "execution_count": null,
   "id": "768e8b9b",
   "metadata": {},
   "outputs": [],
   "source": [
    "#Install webdriver\n",
    "driver = webdriver.Chrome(r'‪C:\\Users\\govind\\Desktop\\chromedriver.exe')"
   ]
  },
  {
   "cell_type": "code",
   "execution_count": null,
   "id": "03a8740d",
   "metadata": {},
   "outputs": [],
   "source": [
    "#opening webpage of automated Chrome browser\n",
    "driver.get('https://www.amazon.in')"
   ]
  },
  {
   "cell_type": "code",
   "execution_count": null,
   "id": "bb2b5126",
   "metadata": {},
   "outputs": [],
   "source": [
    "search_panel = driver.find_element(By.XPATH,'/html/body/div[1]/header/div/div[1]/div[2]/div/form/div[2]/div[1]/input')\n",
    "search_panel.send_keys(\"guitar\")\n",
    "\n",
    "search_but = driver.find_element(By.XPATH,'//input[@id=\"nav-search-submit-button\"]')\n",
    "search_but.click()\n",
    "#Brand Name\", \"Name of the Product\", \"Price\", \"Return/Exchange\", \"Expected Delivery\", \"Availability\" and “Product URL”"
   ]
  },
  {
   "cell_type": "code",
   "execution_count": null,
   "id": "7dc8ae31",
   "metadata": {},
   "outputs": [],
   "source": [
    "brand_name = []\n",
    "name_of_the_product= []\n",
    "price = []\n",
    "return_exchange= []\n",
    "expected_delivery= []\n",
    "availability= []\n",
    "product_url= []"
   ]
  },
  {
   "cell_type": "code",
   "execution_count": null,
   "id": "1916fd4b",
   "metadata": {},
   "outputs": [],
   "source": [
    "# scraping the brand name from web page\n",
    "start = 0\n",
    "end = 1\n",
    "for page in range(start,end):\n",
    "    brand_b= driver.find_elements(By.XPATH,'//h2[@class=\"a-size-mini a-spacing-none a-color-base s-line-clamp-4\"]')\n",
    "    for i in brand_b[0:10]:\n",
    "        bran=i.text\n",
    "        brand_name.append(bran)\n",
    "    next_button=driver.find_element(By.XPATH,'//a[@class=\"s-pagination-item s-pagination-next s-pagination-button s-pagination-separator\"]')\n",
    "    next_button.click()\n",
    "    time.sleep(3)"
   ]
  },
  {
   "cell_type": "code",
   "execution_count": null,
   "id": "c7de52ab",
   "metadata": {},
   "outputs": [],
   "source": [
    "# scraping the name of product from web page\n",
    "start = 0\n",
    "end = 1\n",
    "for page in range(start,end):\n",
    "    product_b= driver.find_elements(By.XPATH,'//h2[@class=\"a-size-mini a-spacing-none a-color-base s-line-clamp-4\"]')\n",
    "    for i in product_b[0:10]:\n",
    "        pro=i.text\n",
    "        name_of_the_product.append(bran)\n",
    "    next_button=driver.find_element(By.XPATH,'//a[@class=\"s-pagination-item s-pagination-next s-pagination-button s-pagination-separator\"]')\n",
    "    next_button.click()\n",
    "    time.sleep(3)"
   ]
  },
  {
   "cell_type": "code",
   "execution_count": null,
   "id": "0a330e6d",
   "metadata": {},
   "outputs": [],
   "source": []
  },
  {
   "cell_type": "code",
   "execution_count": null,
   "id": "4cbe7d20",
   "metadata": {},
   "outputs": [],
   "source": []
  },
  {
   "cell_type": "code",
   "execution_count": null,
   "id": "839896c4",
   "metadata": {},
   "outputs": [],
   "source": []
  },
  {
   "cell_type": "markdown",
   "id": "adcea6fc",
   "metadata": {},
   "source": [
    "Question == 3"
   ]
  },
  {
   "cell_type": "code",
   "execution_count": null,
   "id": "c6c2f7c1",
   "metadata": {},
   "outputs": [],
   "source": [
    "import pandas as pd\n",
    "import selenium\n",
    "from selenium import webdriver\n",
    "from selenium.webdriver.common.by import By\n",
    "from selenium.common.exceptions import StaleElementReferenceException, NoSuchElementException\n",
    "import time\n",
    "\n",
    "import warnings\n",
    "warnings.filterwarnings('ignore')"
   ]
  },
  {
   "cell_type": "code",
   "execution_count": null,
   "id": "7fc49409",
   "metadata": {},
   "outputs": [],
   "source": [
    "#Install webdriver\n",
    "driver = webdriver.Chrome(r'‪C:\\Users\\govind\\Desktop\\chromedriver.exe')"
   ]
  },
  {
   "cell_type": "code",
   "execution_count": null,
   "id": "d9bb5de9",
   "metadata": {},
   "outputs": [],
   "source": [
    "#opening webpage of automated Chrome browser\n",
    "driver.get('https://www.google.com')\n",
    "\n",
    "image_g=driver.find_element(By.XPATH,'/html/body/div[1]/div[1]/div/div/div/div[1]/div/div[2]/a')\n",
    "image_g.click()\n",
    "\n",
    "#fruits’, ‘cars’ and ‘Machine Learning’, ‘Guitar’, ‘Cakes"
   ]
  },
  {
   "cell_type": "code",
   "execution_count": null,
   "id": "932eba9d",
   "metadata": {},
   "outputs": [],
   "source": [
    "search_bar=driver.find_element(By.XPATH,'//input[@class=\"gLFyf\"]')\n",
    "search_bar.send_keys(\"fruits\")\n",
    "\n",
    "search_btn=driver.find_element(By.XPATH,'//span[@class=\"z1asCe MZy1Rb\"]')\n",
    "search_btn.click()"
   ]
  },
  {
   "cell_type": "code",
   "execution_count": null,
   "id": "28129d1e",
   "metadata": {},
   "outputs": [],
   "source": [
    "fruits = []\n",
    "car_n_machine_learning =[]\n",
    "guitar = []\n",
    "cakes = []"
   ]
  },
  {
   "cell_type": "code",
   "execution_count": null,
   "id": "e271dc68",
   "metadata": {},
   "outputs": [],
   "source": [
    "#scrap fruits images from page\n",
    "fruit_tag=driver.find_elements(By.XPATH,'//div[@class=\"c7cjWc mvjhOe\"]')\n",
    "for i in fruit_tag[0:10]:\n",
    "    fru=i.text\n",
    "    fruits.append(fru)"
   ]
  },
  {
   "cell_type": "code",
   "execution_count": null,
   "id": "a1941c30",
   "metadata": {},
   "outputs": [],
   "source": []
  },
  {
   "cell_type": "code",
   "execution_count": null,
   "id": "51bec11d",
   "metadata": {},
   "outputs": [],
   "source": []
  },
  {
   "cell_type": "code",
   "execution_count": null,
   "id": "1dadcf6a",
   "metadata": {},
   "outputs": [],
   "source": [
    "#Opening automated Chrome web page\n",
    "driver.get('https://www.google.com')\n",
    "\n",
    "image_g=driver.find_element(By.XPATH,'/html/body/div[1]/div[1]/div/div/div/div[1]/div/div[2]/a')\n",
    "image_g.click()\n",
    "\n",
    "\n",
    "search_bar=driver.find_element(By.XPATH,'//input[@class=\"gLFyf\"]')\n",
    "search_bar.send_keys(\"car and machine learning\")\n",
    "\n",
    "search_btn=driver.find_element(By.XPATH,'//span[@class=\"z1asCe MZy1Rb\"]')\n",
    "search_btn.click()\n",
    "\n",
    "#scrap car n ML images from page\n",
    "car_tag=driver.find_elements(By.XPATH,'//div[@class=\" bRMDJf islir\"]')\n",
    "for i in car_tag[0:10]:\n",
    "    car_ml=i.text\n",
    "    car_n_machine_learning.append(car_ml)"
   ]
  },
  {
   "cell_type": "code",
   "execution_count": null,
   "id": "e25bdd65",
   "metadata": {},
   "outputs": [],
   "source": [
    "#Opening automated Chrome web page\n",
    "driver.get('https://www.google.com')\n",
    "\n",
    "image_g=driver.find_element(By.XPATH,'/html/body/div[1]/div[1]/div/div/div/div[1]/div/div[2]/a')\n",
    "image_g.click()\n",
    "\n",
    "\n",
    "search_bar=driver.find_element(By.XPATH,'//input[@class=\"gLFyf\"]')\n",
    "search_bar.send_keys(\"guitar\")\n",
    "\n",
    "search_btn=driver.find_element(By.XPATH,'//span[@class=\"z1asCe MZy1Rb\"]')\n",
    "search_btn.click()\n",
    "\n",
    "#scrap guitar images from page\n",
    "guitar_tag=driver.find_elements(By.XPATH,'//div[@class=\" bRMDJf islir\"]')\n",
    "for i in guitar_tag[0:10]:\n",
    "    play=i.text\n",
    "    guitar.append(play)"
   ]
  },
  {
   "cell_type": "code",
   "execution_count": null,
   "id": "a8c89c02",
   "metadata": {},
   "outputs": [],
   "source": [
    "#Opening automated Chrome web page\n",
    "driver.get('https://www.google.com')\n",
    "\n",
    "image_g=driver.find_element(By.XPATH,'/html/body/div[1]/div[1]/div/div/div/div[1]/div/div[2]/a')\n",
    "image_g.click()\n",
    "\n",
    "\n",
    "search_bar=driver.find_element(By.XPATH,'//input[@class=\"gLFyf\"]')\n",
    "search_bar.send_keys(\"cakes\")\n",
    "\n",
    "search_btn=driver.find_element(By.XPATH,'//span[@class=\"z1asCe MZy1Rb\"]')\n",
    "search_btn.click()\n",
    "\n",
    "#scrap fruits images from page \n",
    "cake_tag=driver.find_elements(By.XPATH,'//div[@class=\" bRMDJf islir\"]') \n",
    "for i in cake_tag[0:10]:     \n",
    "    food=i.text    \n",
    "    cakes.append(food)"
   ]
  },
  {
   "cell_type": "code",
   "execution_count": null,
   "id": "b9279adb",
   "metadata": {},
   "outputs": [],
   "source": [
    "print(len(fruits),len(car_n_machine_learning),len(guitar),len(cakes))"
   ]
  },
  {
   "cell_type": "code",
   "execution_count": null,
   "id": "01ec3882",
   "metadata": {},
   "outputs": [],
   "source": []
  },
  {
   "cell_type": "code",
   "execution_count": null,
   "id": "cedd8cb7",
   "metadata": {},
   "outputs": [],
   "source": [
    "QUESTION == 4"
   ]
  },
  {
   "cell_type": "code",
   "execution_count": null,
   "id": "0131407d",
   "metadata": {},
   "outputs": [],
   "source": [
    "import pandas as pd\n",
    "import selenium\n",
    "from selenium import webdriver\n",
    "from selenium.webdriver.common.by import By\n",
    "from selenium.common.exceptions import StaleElementReferenceException, NoSuchElementException\n",
    "import time\n",
    "\n",
    "import warnings\n",
    "warnings.filterwarnings('ignore')"
   ]
  },
  {
   "cell_type": "code",
   "execution_count": null,
   "id": "2d4e0668",
   "metadata": {},
   "outputs": [],
   "source": [
    "#Install webdriver\n",
    "driver = webdriver.Chrome(r'‪C:\\Users\\govind\\Desktop\\chromedriver.exe')"
   ]
  },
  {
   "cell_type": "code",
   "execution_count": null,
   "id": "dafcf179",
   "metadata": {},
   "outputs": [],
   "source": [
    "#Opening automated Chrome web page\n",
    "driver.get('https://www.flipkart.com')\n",
    "\n",
    "search_bar=driver.find_element(By.XPATH,'//input[@class=\"_3704LK\"]')\n",
    "search_bar.send_keys(\"pixel 4A\")\n",
    "\n",
    "search_btn=driver.find_element(By.XPATH,'//button[@class=\"L0Z3Pu\"]')\n",
    "search_btn.click()\n",
    "\n",
    "Brand Name”, “Smartphone name”, “Colour”, “RAM”, “Storage(ROM)”, \n",
    "“Primary Camera”, “Secondary Camera”, “Display Size”, “Battery Capacity”, “Price”, “Product URL"
   ]
  },
  {
   "cell_type": "code",
   "execution_count": null,
   "id": "73999a5a",
   "metadata": {},
   "outputs": [],
   "source": [
    "#scrap brand name from page \n",
    "brand_tag=driver.find_elements(By.XPATH,'NAN') \n",
    "for i in brand_tag[0:1]:     \n",
    "    cell=i.text    \n",
    "    brand_name.append(cell)"
   ]
  },
  {
   "cell_type": "code",
   "execution_count": null,
   "id": "435db525",
   "metadata": {},
   "outputs": [],
   "source": [
    "#scrap smartphone name from page \n",
    "sm_name_tag=driver.find_elements(By.XPATH,'//div[@class=\"_4rR01T\"]') \n",
    "for i in sm_name_tag[0:1]:     \n",
    "    cell=i.text    \n",
    "    smartphone_name.append(cell)"
   ]
  },
  {
   "cell_type": "code",
   "execution_count": null,
   "id": "ee5fed49",
   "metadata": {},
   "outputs": [],
   "source": [
    "#scrap colour from page \n",
    "color_tag=driver.find_elements(By.XPATH,'/html/body/div/div/div[3]/div[1]/div[2]/div[2]/div/div/div/a/div[2]/div[1]/div[1]') \n",
    "for i in color_tag[0:1]:     \n",
    "    cell=i.text    \n",
    "    colour.append(cell)"
   ]
  },
  {
   "cell_type": "code",
   "execution_count": null,
   "id": "5ea4363f",
   "metadata": {},
   "outputs": [],
   "source": [
    "#scrap RAM from page \n",
    "ram_tag=driver.find_elements(By.XPATH,'//li[@class=\"rgWa7D\"]') \n",
    "for i in ram_tag[0:1]:     \n",
    "    cell=i.text    \n",
    "    ram.append(cell)"
   ]
  },
  {
   "cell_type": "code",
   "execution_count": null,
   "id": "1f47852a",
   "metadata": {},
   "outputs": [],
   "source": [
    "#scrap Storage from page \n",
    "storage_tag=driver.find_elements(By.XPATH,'/html/body/div/div/div[3]/div[1]/div[2]/div[2]/div/div/div/a/div[2]/div[1]/div[1]') \n",
    "for i in storage_tag[0:1]:     \n",
    "    cell=i.text    \n",
    "    storage.append(cell)"
   ]
  },
  {
   "cell_type": "code",
   "execution_count": null,
   "id": "e7b0ab0c",
   "metadata": {},
   "outputs": [],
   "source": [
    "#scrap Primary Camerafrom page \n",
    "p_camera_tag=driver.find_elements(By.XPATH,'//li[@class=\"rgWa7D\"]') \n",
    "for i in p_camera_tag[0:1]:     \n",
    "    cell=i.text    \n",
    "    primary_camera.append(cell)"
   ]
  },
  {
   "cell_type": "code",
   "execution_count": null,
   "id": "5732208f",
   "metadata": {},
   "outputs": [],
   "source": [
    "#scrap secondary Camera from page \n",
    "s_camera_tag=driver.find_elements(By.XPATH,'//li[@class=\"rgWa7D\"]') \n",
    "for i in s_camera_tag[0:1]:     \n",
    "    cell=i.text    \n",
    "    secondary_camera.append(cell)"
   ]
  },
  {
   "cell_type": "code",
   "execution_count": null,
   "id": "ebf2dddd",
   "metadata": {},
   "outputs": [],
   "source": [
    "#scrap display_size from page \n",
    "display_tag=driver.find_elements(By.XPATH,'//li[@class=\"rgWa7D\"]') \n",
    "for i in display_tag[0:1]:     \n",
    "    cell=i.text    \n",
    "    display_size.append(cell)"
   ]
  },
  {
   "cell_type": "code",
   "execution_count": null,
   "id": "13899376",
   "metadata": {},
   "outputs": [],
   "source": [
    "#scrap battery_capacity from page \n",
    "battery_tag=driver.find_elements(By.XPATH,'//li[@class=\"rgWa7D\"]') \n",
    "for i in battery_tag[0:1]:     \n",
    "    cell=i.text    \n",
    "    battery_capacity.append(cell)"
   ]
  },
  {
   "cell_type": "code",
   "execution_count": null,
   "id": "a4bb5f05",
   "metadata": {},
   "outputs": [],
   "source": [
    "#scrap price from page \n",
    "price_tag=driver.find_elements(By.XPATH,'//div[@class=\"_30jeq3 _1_WHN1\"]') \n",
    "for i in battery_tag[0:1]:     \n",
    "    cell=i.text    \n",
    "    price.append(cell)"
   ]
  },
  {
   "cell_type": "code",
   "execution_count": null,
   "id": "0662560b",
   "metadata": {},
   "outputs": [],
   "source": [
    "#scrap product_url from page \n",
    "url_tag=driver.find_elements(By.XPATH,'/html/body/div/div/div[3]/div[1]/div[2]/div[2]/div/div/div/a') \n",
    "for i in url_tag[0:1]:     \n",
    "    cell=i.text    \n",
    "    product_url.append(cell)"
   ]
  },
  {
   "cell_type": "code",
   "execution_count": null,
   "id": "474bdde6",
   "metadata": {},
   "outputs": [],
   "source": [
    "brand_name = []\n",
    "smartphone_name = []\n",
    "colour = []\n",
    "ram = []\n",
    "storage = []\n",
    "primary_camera =[]\n",
    "secondary_camera = []\n",
    "display_size = []\n",
    "battery_capacity = []\n",
    "price = []\n",
    "product_url = []"
   ]
  },
  {
   "cell_type": "code",
   "execution_count": null,
   "id": "55d538ee",
   "metadata": {},
   "outputs": [],
   "source": [
    "print(len(brand_name),len(smartphone_name),len(colour),len(ram),len(storage),len(primary_camera),len(secondary_camera),len(display_size),len(battery_capacity),len(price),len(product_url))"
   ]
  },
  {
   "cell_type": "code",
   "execution_count": null,
   "id": "2bd61126",
   "metadata": {},
   "outputs": [],
   "source": [
    "df=pd.DataFrame({'Brand':brand_name,'Name':smartphone_name,'Colour':colou,'RAM':ram,'Storage':storage = []'Front camera':primary_camera,'Back Camera':secondary_camera,'Display':display_size,'Battery':battery_capacity,'Price':price,'URL':product_url})\n",
    "df"
   ]
  }
 ],
 "metadata": {
  "kernelspec": {
   "display_name": "Python 3 (ipykernel)",
   "language": "python",
   "name": "python3"
  },
  "language_info": {
   "codemirror_mode": {
    "name": "ipython",
    "version": 3
   },
   "file_extension": ".py",
   "mimetype": "text/x-python",
   "name": "python",
   "nbconvert_exporter": "python",
   "pygments_lexer": "ipython3",
   "version": "3.9.12"
  }
 },
 "nbformat": 4,
 "nbformat_minor": 5
}
