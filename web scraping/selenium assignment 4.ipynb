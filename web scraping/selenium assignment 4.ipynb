{
 "cells": [
  {
   "cell_type": "markdown",
   "id": "f405a50c",
   "metadata": {},
   "source": [
    "QUESTION == 1\n",
    "\n",
    "Scrape the details of most viewed videos on YouTube from Wikipedia.\n",
    "Url = https://en.wikipedia.org/wiki/List_of_most-viewed_YouTube_videos\n",
    "You need to find following details:\n",
    "A) Rank\n",
    "B) Name\n",
    "C) Artist\n",
    "D) Upload date\n",
    "E) Views"
   ]
  },
  {
   "cell_type": "code",
   "execution_count": 3,
   "id": "6ace6ac6",
   "metadata": {},
   "outputs": [],
   "source": [
    "import pandas as pd\n",
    "import selenium\n",
    "from selenium import webdriver\n",
    "from selenium.webdriver.common.by import By\n",
    "from selenium.common.exceptions import StaleElementReferenceException, NoSuchElementException\n",
    "import time\n",
    "\n",
    "import warnings\n",
    "warnings.filterwarnings('ignore')"
   ]
  },
  {
   "cell_type": "code",
   "execution_count": 13,
   "id": "e9c1dbbe",
   "metadata": {},
   "outputs": [],
   "source": [
    "#Install webdriver\n",
    "driver = webdriver.Chrome(r'‪C:\\Users\\govind\\Desktop\\chromedriver.exe')"
   ]
  },
  {
   "cell_type": "code",
   "execution_count": 14,
   "id": "503e2068",
   "metadata": {},
   "outputs": [],
   "source": [
    "#opening webpage of automated Chrome browser\n",
    "driver.get('https://en.wikipedia.org/wiki/List_of_most-viewed_YouTube_videos')"
   ]
  },
  {
   "cell_type": "code",
   "execution_count": 15,
   "id": "94a1d42c",
   "metadata": {},
   "outputs": [],
   "source": [
    "Ranks=[]\n",
    "Name=[]\n",
    "Artist=[]\n",
    "Upload_date=[]\n",
    "Views=[]"
   ]
  },
  {
   "cell_type": "code",
   "execution_count": 31,
   "id": "b5d9ea95",
   "metadata": {},
   "outputs": [],
   "source": [
    "rank_tags= driver.find_elements(By.XPATH,'//td[@align=\"center\"]')\n",
    "for i in rank_tags:\n",
    "    Ranks.append(i.text)\n",
    "\n",
    "name= driver.find_elements(By.XPATH,'//a[@class=\"mw-redirect\"]')\n",
    "for i in name:\n",
    "    Name.append(i.text)\n",
    "    \n",
    "artist=driver.find_elements(By.XPATH,'//a[@title=\"Pinkfong\"]')\n",
    "for i in artist:\n",
    "    Artist.append(i.text)\n",
    "\n",
    "upload_d = driver.find_elements(By.XPATH,'//td[@align=\"right\"]')\n",
    "for i in upload_d:\n",
    "    Upload_date.append(i.text)\n",
    "    \n",
    "view=driver.find_elements(By.XPATH,'//td[@align=\"center\"]')\n",
    "for i in view:\n",
    "    Views.append(i.text)"
   ]
  },
  {
   "cell_type": "code",
   "execution_count": 32,
   "id": "4aa63646",
   "metadata": {
    "scrolled": true
   },
   "outputs": [
    {
     "name": "stdout",
     "output_type": "stream",
     "text": [
      "135 147 12 176 516\n"
     ]
    }
   ],
   "source": [
    "print(len(Ranks),len(Name),len(Artist),len(Upload_date),len(Views))"
   ]
  },
  {
   "cell_type": "code",
   "execution_count": 33,
   "id": "cc544763",
   "metadata": {},
   "outputs": [],
   "source": [
    "df=pd.DataFrame({'Ranks':Ranks[:6],'Name':Name[:6],'Artist':Artist[:6],'Upload Date':Upload_date[:6], 'Views':Views[:6]})"
   ]
  },
  {
   "cell_type": "code",
   "execution_count": 34,
   "id": "6c8969a1",
   "metadata": {},
   "outputs": [
    {
     "data": {
      "text/html": [
       "<div>\n",
       "<style scoped>\n",
       "    .dataframe tbody tr th:only-of-type {\n",
       "        vertical-align: middle;\n",
       "    }\n",
       "\n",
       "    .dataframe tbody tr th {\n",
       "        vertical-align: top;\n",
       "    }\n",
       "\n",
       "    .dataframe thead th {\n",
       "        text-align: right;\n",
       "    }\n",
       "</style>\n",
       "<table border=\"1\" class=\"dataframe\">\n",
       "  <thead>\n",
       "    <tr style=\"text-align: right;\">\n",
       "      <th></th>\n",
       "      <th>Ranks</th>\n",
       "      <th>Name</th>\n",
       "      <th>Artist</th>\n",
       "      <th>Upload Date</th>\n",
       "      <th>Views</th>\n",
       "    </tr>\n",
       "  </thead>\n",
       "  <tbody>\n",
       "    <tr>\n",
       "      <th>0</th>\n",
       "      <td>10.</td>\n",
       "      <td>music videos</td>\n",
       "      <td>Pinkfong</td>\n",
       "      <td>June 17, 2016</td>\n",
       "      <td>1.</td>\n",
       "    </tr>\n",
       "    <tr>\n",
       "      <th>1</th>\n",
       "      <td>10.</td>\n",
       "      <td>Nike</td>\n",
       "      <td>Pinkfong Baby Shark - Kids' Songs &amp; Stories</td>\n",
       "      <td>June 17, 2016</td>\n",
       "      <td>12.27</td>\n",
       "    </tr>\n",
       "    <tr>\n",
       "      <th>2</th>\n",
       "      <td>10.</td>\n",
       "      <td>regional restrictions</td>\n",
       "      <td>Pinkfong</td>\n",
       "      <td>June 17, 2016</td>\n",
       "      <td>[A]</td>\n",
       "    </tr>\n",
       "    <tr>\n",
       "      <th>3</th>\n",
       "      <td>10.</td>\n",
       "      <td>Baby Shark Dance</td>\n",
       "      <td>Pinkfong Baby Shark - Kids' Songs &amp; Stories</td>\n",
       "      <td>January 12, 2017</td>\n",
       "      <td>2.</td>\n",
       "    </tr>\n",
       "    <tr>\n",
       "      <th>4</th>\n",
       "      <td>10.</td>\n",
       "      <td>Johny Johny Yes Papa</td>\n",
       "      <td>Pinkfong</td>\n",
       "      <td>October 8, 2016</td>\n",
       "      <td>8.08</td>\n",
       "    </tr>\n",
       "    <tr>\n",
       "      <th>5</th>\n",
       "      <td>10.</td>\n",
       "      <td>Cocomelon – Nursery Rhymes</td>\n",
       "      <td>Pinkfong Baby Shark - Kids' Songs &amp; Stories</td>\n",
       "      <td>May 2, 2018</td>\n",
       "      <td>[B]</td>\n",
       "    </tr>\n",
       "  </tbody>\n",
       "</table>\n",
       "</div>"
      ],
      "text/plain": [
       "  Ranks                        Name  \\\n",
       "0   10.                music videos   \n",
       "1   10.                        Nike   \n",
       "2   10.       regional restrictions   \n",
       "3   10.            Baby Shark Dance   \n",
       "4   10.        Johny Johny Yes Papa   \n",
       "5   10.  Cocomelon – Nursery Rhymes   \n",
       "\n",
       "                                        Artist       Upload Date  Views  \n",
       "0                                     Pinkfong     June 17, 2016     1.  \n",
       "1  Pinkfong Baby Shark - Kids' Songs & Stories     June 17, 2016  12.27  \n",
       "2                                     Pinkfong     June 17, 2016    [A]  \n",
       "3  Pinkfong Baby Shark - Kids' Songs & Stories  January 12, 2017     2.  \n",
       "4                                     Pinkfong   October 8, 2016   8.08  \n",
       "5  Pinkfong Baby Shark - Kids' Songs & Stories       May 2, 2018    [B]  "
      ]
     },
     "execution_count": 34,
     "metadata": {},
     "output_type": "execute_result"
    }
   ],
   "source": [
    "df"
   ]
  },
  {
   "cell_type": "code",
   "execution_count": 35,
   "id": "77e0adc1",
   "metadata": {},
   "outputs": [],
   "source": [
    "driver.close()"
   ]
  },
  {
   "cell_type": "markdown",
   "id": "51d988c1",
   "metadata": {},
   "source": [
    "QUESTION == 2"
   ]
  },
  {
   "cell_type": "markdown",
   "id": "7785d36e",
   "metadata": {},
   "source": [
    "Scrape the details team India’s international fixtures from bcci.tv.\n",
    "Url = https://www.bcci.tv/.\n",
    "You need to find following details:\n",
    "A) Match title (I.e. 1st ODI)\n",
    "B) Series\n",
    "C) Place\n",
    "D) Date\n",
    "E) Time"
   ]
  },
  {
   "cell_type": "code",
   "execution_count": 36,
   "id": "38919e6a",
   "metadata": {},
   "outputs": [],
   "source": [
    "import pandas as pd\n",
    "import selenium\n",
    "from selenium import webdriver\n",
    "from selenium.webdriver.common.by import By\n",
    "from selenium.common.exceptions import StaleElementReferenceException, NoSuchElementException\n",
    "import time\n",
    "\n",
    "import warnings\n",
    "warnings.filterwarnings('ignore')"
   ]
  },
  {
   "cell_type": "code",
   "execution_count": 37,
   "id": "592b0cf4",
   "metadata": {},
   "outputs": [],
   "source": [
    "#Install webdriver\n",
    "driver = webdriver.Chrome(r'‪C:\\Users\\govind\\Desktop\\chromedriver.exe')"
   ]
  },
  {
   "cell_type": "code",
   "execution_count": 40,
   "id": "3839cc2c",
   "metadata": {},
   "outputs": [],
   "source": [
    "#opening webpage of automated Chrome browser\n",
    "driver.get('https://www.bcci.tv/.')"
   ]
  },
  {
   "cell_type": "code",
   "execution_count": 66,
   "id": "0be1eaea",
   "metadata": {},
   "outputs": [],
   "source": [
    "link_btn= driver.find_element(By.CLASS_NAME,\"nav-item\")\n",
    "link_btn.click()"
   ]
  },
  {
   "cell_type": "code",
   "execution_count": 41,
   "id": "9be387dc",
   "metadata": {},
   "outputs": [],
   "source": [
    "Match_title= []\n",
    "Series = []\n",
    "Place = []\n",
    "Date = []\n",
    "Time = []"
   ]
  },
  {
   "cell_type": "code",
   "execution_count": 42,
   "id": "7c27917d",
   "metadata": {},
   "outputs": [],
   "source": [
    "# scraping the match details \n",
    "Match_title= []\n",
    "match_odi= driver.find_elements(By.XPATH,'//span[@ng-bind=\"matchSummary.MatchName\"]')\n",
    "for i in match_odi:\n",
    "    Match_title.append(i.text)\n",
    "    \n",
    "Series = []\n",
    "series_t=driver.find_elements(By.XPATH,'//div[@class=\"tournament--name ng-binding ng-scope\"]')\n",
    "for i in series_t:\n",
    "    Series.append(i.text)\n",
    "    \n",
    "place_tag=driver.find_elements(By.XPATH,'//div[@class=\"matchVenue alignC\"]')\n",
    "for i in place_tag:\n",
    "    Place.append(i.text)\n",
    "\n",
    "date=driver.find_elements(By.XPATH,'//div[@class=\"matchDate alignC ng-binding ng-scope\"]')\n",
    "for i in date:\n",
    "    Date.append(i.text)\n",
    "    \n",
    "time= driver.find_elements(By.XPATH,'Nan')\n",
    "for i in time:\n",
    "    Time.append(nan)"
   ]
  },
  {
   "cell_type": "code",
   "execution_count": 43,
   "id": "f8be00af",
   "metadata": {},
   "outputs": [
    {
     "name": "stdout",
     "output_type": "stream",
     "text": [
      "0 0 0 0 0\n"
     ]
    }
   ],
   "source": [
    "print(len(Match_title),len(Place),len(Date),len(Series),len(Time))"
   ]
  },
  {
   "cell_type": "code",
   "execution_count": 44,
   "id": "a31c9cc3",
   "metadata": {},
   "outputs": [
    {
     "data": {
      "text/html": [
       "<div>\n",
       "<style scoped>\n",
       "    .dataframe tbody tr th:only-of-type {\n",
       "        vertical-align: middle;\n",
       "    }\n",
       "\n",
       "    .dataframe tbody tr th {\n",
       "        vertical-align: top;\n",
       "    }\n",
       "\n",
       "    .dataframe thead th {\n",
       "        text-align: right;\n",
       "    }\n",
       "</style>\n",
       "<table border=\"1\" class=\"dataframe\">\n",
       "  <thead>\n",
       "    <tr style=\"text-align: right;\">\n",
       "      <th></th>\n",
       "      <th>Match</th>\n",
       "      <th>Place</th>\n",
       "      <th>Date</th>\n",
       "      <th>Series</th>\n",
       "      <th>Time</th>\n",
       "    </tr>\n",
       "  </thead>\n",
       "  <tbody>\n",
       "  </tbody>\n",
       "</table>\n",
       "</div>"
      ],
      "text/plain": [
       "Empty DataFrame\n",
       "Columns: [Match, Place, Date, Series, Time]\n",
       "Index: []"
      ]
     },
     "execution_count": 44,
     "metadata": {},
     "output_type": "execute_result"
    }
   ],
   "source": [
    "df=pd.DataFrame({'Match':Match_title[0:1], 'Place':Place[0:1],'Date':Date[0:1][0:1][0:1],'Series':Series[0:1][0:1],'Time':Time[0:0]})\n",
    "df"
   ]
  },
  {
   "cell_type": "code",
   "execution_count": 45,
   "id": "1ab11cc9",
   "metadata": {},
   "outputs": [],
   "source": [
    "driver.close()"
   ]
  },
  {
   "cell_type": "code",
   "execution_count": null,
   "id": "df4c5eaf",
   "metadata": {},
   "outputs": [],
   "source": []
  },
  {
   "cell_type": "markdown",
   "id": "1ab65e7c",
   "metadata": {},
   "source": [
    "QUESTION ==3\n",
    "\n",
    "\n",
    "Scrape the details of State-wise GDP of India from statisticstime.com.\n",
    "Url = http://statisticstimes.com/\n",
    "You have to find following details:\n",
    "A) Rank\n",
    "B) State\n",
    "C) GSDP(18-19)- at current prices\n",
    "D) GSDP(19-20)- at current prices\n",
    "E) Share(18-19)\n",
    "F) GDP($ billion)\n",
    "Note: - From statisticstimes home page you have to reach to economy page through code."
   ]
  },
  {
   "cell_type": "code",
   "execution_count": 1,
   "id": "f36d6eac",
   "metadata": {},
   "outputs": [],
   "source": [
    "import pandas as pd\n",
    "import selenium\n",
    "from selenium import webdriver\n",
    "from selenium.webdriver.common.by import By\n",
    "from selenium.common.exceptions import StaleElementReferenceException, NoSuchElementException\n",
    "\n",
    "import warnings\n",
    "warnings.filterwarnings('ignore')\n",
    "import time"
   ]
  },
  {
   "cell_type": "code",
   "execution_count": 2,
   "id": "e9d3900c",
   "metadata": {},
   "outputs": [],
   "source": [
    "driver = webdriver.Chrome(r'‪C:\\Users\\govind\\Desktop\\chromedriver.exe')"
   ]
  },
  {
   "cell_type": "code",
   "execution_count": 11,
   "id": "175d08de",
   "metadata": {},
   "outputs": [],
   "source": [
    "driver.get('http://statisticstimes.com/')"
   ]
  },
  {
   "cell_type": "code",
   "execution_count": null,
   "id": "19107db6",
   "metadata": {},
   "outputs": [],
   "source": [
    "navbar=driver.find_element(By.XPATH,'//div[@class=\"navbar\"]')\n",
    "navbar.click()\n",
    "\n",
    "cookies=driver.find_element(By.XPATH,'//a[@aria-label=\"dismiss cookie message\"]')\n",
    "cookies.click()\n"
   ]
  },
  {
   "cell_type": "code",
   "execution_count": null,
   "id": "0594c893",
   "metadata": {},
   "outputs": [],
   "source": [
    "\n",
    "india = driver.find_element(By.XPATH,'//div[@class=\"dropdown-content\"]')\n",
    "india.click()\n",
    "\n",
    "\n",
    "menu_bar = driver.find_element(By.XPATH,'/html/body/div[2]/div[1]/div[2]/div[2]/div')\n",
    "menu_bar.click()"
   ]
  },
  {
   "cell_type": "code",
   "execution_count": 12,
   "id": "92c4ef7d",
   "metadata": {},
   "outputs": [],
   "source": [
    "\n",
    "\n",
    "state_gdp = driver.find_element(By.XPATH,'/html/body/div[2]/div[2]/div[2]/ul/li[1]/a')\n",
    "state_gdp.click()"
   ]
  },
  {
   "cell_type": "code",
   "execution_count": 48,
   "id": "b5ef8c57",
   "metadata": {},
   "outputs": [],
   "source": [
    "rank_tag=driver.find_elements(By.XPATH,'//td[@class=\"data1\"]')\n",
    "Rank.append(rank_tag)\n",
    "    \n",
    "state_tag=driver.find_elements(By.XPATH,'//td[@class=\"name\"]')\n",
    "State.append(state_tag)\n",
    "\n",
    "gsdp_tag=driver.find_elements(By.XPATH,'//td[@class=\"data sorting_1\"]')\n",
    "GSDP_18_19.append(gsdp_tag)\n",
    "\n",
    "gsdp_tag1=driver.find_elements(By.XPATH,'/html/body/div[3]/div[2]/div[5]/div[1]/div/table/tbody/tr[2]/td[3]')\n",
    "GSDP_19_20.append(gsdp_tag1)\n",
    "\n",
    "share_tag=driver.find_elements(By.XPATH,'/html/body/div[3]/div[2]/div[5]/div[1]/div/table/tbody/tr[1]/td[5]')\n",
    "share_18_19.append(share_tag)\n",
    "\n",
    "gdp_tag = driver.find_elements(By.XPATH,'/html/body/div[3]/div[2]/div[5]/div[1]/div/table/tbody/tr[1]/td[6]')\n",
    "GDP.append(gdp_tag)"
   ]
  },
  {
   "cell_type": "code",
   "execution_count": 13,
   "id": "0e2d2d0a",
   "metadata": {},
   "outputs": [],
   "source": [
    "#Scraping the following list\n",
    "Rank = []\n",
    "State = []\n",
    "GSDP_18_19=[]\n",
    "GSDP_19_20=[]\n",
    "share_18_19=[]\n",
    "GDP=[]"
   ]
  },
  {
   "cell_type": "code",
   "execution_count": 51,
   "id": "8a2fbe76",
   "metadata": {},
   "outputs": [],
   "source": [
    "dp=pd.DataFrame({'Rank':Rank[0:1],'States':State,'GSDP_18_19':GSDP_18_19,'GSDP_19_20':GSDP_19_20,'share_18_19':share_18_19,'GDP(Billion)':GDP})"
   ]
  },
  {
   "cell_type": "code",
   "execution_count": 52,
   "id": "18b99d2d",
   "metadata": {},
   "outputs": [
    {
     "data": {
      "text/html": [
       "<div>\n",
       "<style scoped>\n",
       "    .dataframe tbody tr th:only-of-type {\n",
       "        vertical-align: middle;\n",
       "    }\n",
       "\n",
       "    .dataframe tbody tr th {\n",
       "        vertical-align: top;\n",
       "    }\n",
       "\n",
       "    .dataframe thead th {\n",
       "        text-align: right;\n",
       "    }\n",
       "</style>\n",
       "<table border=\"1\" class=\"dataframe\">\n",
       "  <thead>\n",
       "    <tr style=\"text-align: right;\">\n",
       "      <th></th>\n",
       "      <th>Rank</th>\n",
       "      <th>States</th>\n",
       "      <th>GSDP_18_19</th>\n",
       "      <th>GSDP_19_20</th>\n",
       "      <th>share_18_19</th>\n",
       "      <th>GDP(Billion)</th>\n",
       "    </tr>\n",
       "  </thead>\n",
       "  <tbody>\n",
       "    <tr>\n",
       "      <th>0</th>\n",
       "      <td>[&lt;selenium.webdriver.remote.webelement.WebElem...</td>\n",
       "      <td>&lt;selenium.webdriver.remote.webelement.WebEleme...</td>\n",
       "      <td>[&lt;selenium.webdriver.remote.webelement.WebElem...</td>\n",
       "      <td>[&lt;selenium.webdriver.remote.webelement.WebElem...</td>\n",
       "      <td>[&lt;selenium.webdriver.remote.webelement.WebElem...</td>\n",
       "      <td>[&lt;selenium.webdriver.remote.webelement.WebElem...</td>\n",
       "    </tr>\n",
       "  </tbody>\n",
       "</table>\n",
       "</div>"
      ],
      "text/plain": [
       "                                                Rank  \\\n",
       "0  [<selenium.webdriver.remote.webelement.WebElem...   \n",
       "\n",
       "                                              States  \\\n",
       "0  <selenium.webdriver.remote.webelement.WebEleme...   \n",
       "\n",
       "                                          GSDP_18_19  \\\n",
       "0  [<selenium.webdriver.remote.webelement.WebElem...   \n",
       "\n",
       "                                          GSDP_19_20  \\\n",
       "0  [<selenium.webdriver.remote.webelement.WebElem...   \n",
       "\n",
       "                                         share_18_19  \\\n",
       "0  [<selenium.webdriver.remote.webelement.WebElem...   \n",
       "\n",
       "                                        GDP(Billion)  \n",
       "0  [<selenium.webdriver.remote.webelement.WebElem...  "
      ]
     },
     "execution_count": 52,
     "metadata": {},
     "output_type": "execute_result"
    }
   ],
   "source": [
    "dp"
   ]
  },
  {
   "cell_type": "code",
   "execution_count": 49,
   "id": "b4672a74",
   "metadata": {},
   "outputs": [],
   "source": [
    "driver.close()"
   ]
  },
  {
   "cell_type": "code",
   "execution_count": null,
   "id": "5de8d184",
   "metadata": {},
   "outputs": [],
   "source": []
  },
  {
   "cell_type": "markdown",
   "id": "244b8b09",
   "metadata": {},
   "source": [
    "QUESTION == 4\n",
    "\n",
    "4. Scrape the details of trending repositories on Github.com.\n",
    "Url = https://github.com/\n",
    "You have to find the following details:\n",
    "A) Repository title\n",
    "B) Repository description\n",
    "C) Contributors count\n",
    "D) Language used\n",
    "\n",
    "Note: - From the home page you have to click on the trending option from Explore menu through code."
   ]
  },
  {
   "cell_type": "code",
   "execution_count": null,
   "id": "1e22197d",
   "metadata": {},
   "outputs": [],
   "source": [
    "import pandas as pd\n",
    "import selenium\n",
    "from selenium import webdriver\n",
    "from selenium.webdriver.common.by import By\n",
    "from selenium.common.exceptions import StaleElementReferenceException, NoSuchElementException\n",
    "import time\n",
    "\n",
    "import warnings\n",
    "warnings.filterwarnings('ignore')"
   ]
  },
  {
   "cell_type": "code",
   "execution_count": 53,
   "id": "a7b3fa54",
   "metadata": {},
   "outputs": [],
   "source": [
    "#Install webdriver\n",
    "driver = webdriver.Chrome(r'‪C:\\Users\\govind\\Desktop\\chromedriver.exe')"
   ]
  },
  {
   "cell_type": "code",
   "execution_count": 54,
   "id": "d57122d6",
   "metadata": {},
   "outputs": [],
   "source": [
    "driver.get('https://github.com/')"
   ]
  },
  {
   "cell_type": "code",
   "execution_count": 55,
   "id": "a496dbc8",
   "metadata": {},
   "outputs": [],
   "source": [
    "menu_bar= driver.find_element(By.XPATH,'//span[@class=\"Button-content\"]')\n",
    "menu_bar.click()"
   ]
  },
  {
   "cell_type": "code",
   "execution_count": 56,
   "id": "e7a1343e",
   "metadata": {},
   "outputs": [],
   "source": [
    "link_but = driver.find_element(By.XPATH,'//li[@class=\"HeaderMenu-item position-relative flex-wrap flex-justify-between flex-items-center d-block d-lg-flex flex-lg-nowrap flex-lg-items-center js-details-container js-header-menu-item\"]')\n",
    "link_but.click()"
   ]
  },
  {
   "cell_type": "code",
   "execution_count": null,
   "id": "6aeab438",
   "metadata": {},
   "outputs": [],
   "source": [
    "trend_1=driver.find_element(By.XPATH,'/html/body/div[1]/div[1]/header/div/div[2]/div/nav/ul/li[3]/div/ul[3]/li[3]/a')\n",
    "trend_1.click()"
   ]
  },
  {
   "cell_type": "code",
   "execution_count": 64,
   "id": "42a029ea",
   "metadata": {},
   "outputs": [],
   "source": [
    "Repository_title=[]\n",
    "Repository_description=[]\n",
    "Contributors_count=[]\n",
    "Language_used=[]"
   ]
  },
  {
   "cell_type": "code",
   "execution_count": 65,
   "id": "34076151",
   "metadata": {},
   "outputs": [],
   "source": [
    "rep_title=driver.find_elements(By.XPATH,'//span[@data-view-component=\"true\"]')\n",
    "Repository_title.append(rep_title)\n",
    "\n",
    "rep_desc=driver.find_elements(By.XPATH,'//p[@class=\"col-9 color-fg-muted my-1 pr-4\"]')\n",
    "Repository_description.append(rep_desc)\n",
    "\n",
    "cont_count=driver.find_elements(By.XPATH,'//a[@class=\"Link--muted d-inline-block mr-3\"]')\n",
    "Contributors_count.append(cont_count)\n",
    "\n",
    "lan_used=driver.find_elements(By.XPATH,'//span[@class=\"d-inline-block ml-0 mr-3\"]')\n",
    "Language_used.append(lan_used)"
   ]
  },
  {
   "cell_type": "code",
   "execution_count": 68,
   "id": "2ac3088b",
   "metadata": {},
   "outputs": [],
   "source": [
    "df=pd.DataFrame({'Repository_title':Repository_title,'Repository_description':Repository_description,'Contributors_count':Contributors_count,'Language_used':Language_used})"
   ]
  },
  {
   "cell_type": "code",
   "execution_count": 69,
   "id": "2aa89eba",
   "metadata": {},
   "outputs": [
    {
     "data": {
      "text/html": [
       "<div>\n",
       "<style scoped>\n",
       "    .dataframe tbody tr th:only-of-type {\n",
       "        vertical-align: middle;\n",
       "    }\n",
       "\n",
       "    .dataframe tbody tr th {\n",
       "        vertical-align: top;\n",
       "    }\n",
       "\n",
       "    .dataframe thead th {\n",
       "        text-align: right;\n",
       "    }\n",
       "</style>\n",
       "<table border=\"1\" class=\"dataframe\">\n",
       "  <thead>\n",
       "    <tr style=\"text-align: right;\">\n",
       "      <th></th>\n",
       "      <th>Repository_title</th>\n",
       "      <th>Repository_description</th>\n",
       "      <th>Contributors_count</th>\n",
       "      <th>Language_used</th>\n",
       "    </tr>\n",
       "  </thead>\n",
       "  <tbody>\n",
       "    <tr>\n",
       "      <th>0</th>\n",
       "      <td>[&lt;selenium.webdriver.remote.webelement.WebElem...</td>\n",
       "      <td>[&lt;selenium.webdriver.remote.webelement.WebElem...</td>\n",
       "      <td>[&lt;selenium.webdriver.remote.webelement.WebElem...</td>\n",
       "      <td>[&lt;selenium.webdriver.remote.webelement.WebElem...</td>\n",
       "    </tr>\n",
       "  </tbody>\n",
       "</table>\n",
       "</div>"
      ],
      "text/plain": [
       "                                    Repository_title  \\\n",
       "0  [<selenium.webdriver.remote.webelement.WebElem...   \n",
       "\n",
       "                              Repository_description  \\\n",
       "0  [<selenium.webdriver.remote.webelement.WebElem...   \n",
       "\n",
       "                                  Contributors_count  \\\n",
       "0  [<selenium.webdriver.remote.webelement.WebElem...   \n",
       "\n",
       "                                       Language_used  \n",
       "0  [<selenium.webdriver.remote.webelement.WebElem...  "
      ]
     },
     "execution_count": 69,
     "metadata": {},
     "output_type": "execute_result"
    }
   ],
   "source": [
    "df"
   ]
  },
  {
   "cell_type": "code",
   "execution_count": null,
   "id": "9db8293e",
   "metadata": {},
   "outputs": [],
   "source": [
    "driver.close()"
   ]
  },
  {
   "cell_type": "code",
   "execution_count": null,
   "id": "23aa5660",
   "metadata": {},
   "outputs": [],
   "source": []
  },
  {
   "cell_type": "markdown",
   "id": "56218138",
   "metadata": {},
   "source": [
    "QUESTION == 5\n",
    "\n",
    "\n",
    "Scrape the details of top 100 songs on billiboard.com.\n",
    "Url = https:/www.billboard.com/\n",
    "You have to find the following details:\n",
    "A) Song name\n",
    "B) Artist name\n",
    "C) Last week rank\n",
    "D) Peak rank\n",
    "E) Weeks on board\n",
    "Note: - From the home page you have to click on the charts option then hot 100-page link through code."
   ]
  },
  {
   "cell_type": "code",
   "execution_count": 1,
   "id": "69522a12",
   "metadata": {},
   "outputs": [],
   "source": [
    "import pandas as pd\n",
    "import selenium\n",
    "from selenium import webdriver\n",
    "from selenium.webdriver.common.by import By\n",
    "from selenium.common.exceptions import StaleElementReferenceException, NoSuchElementException\n",
    "\n",
    "import warnings\n",
    "warnings.filterwarnings('ignore')\n",
    "import time"
   ]
  },
  {
   "cell_type": "code",
   "execution_count": 2,
   "id": "3fb574ac",
   "metadata": {},
   "outputs": [],
   "source": [
    "#Install webdriver\n",
    "driver = webdriver.Chrome(r'‪C:\\Users\\govind\\Desktop\\chromedriver.exe')"
   ]
  },
  {
   "cell_type": "code",
   "execution_count": 3,
   "id": "355b7647",
   "metadata": {},
   "outputs": [],
   "source": [
    "driver.get('https:/www.billboard.com/')"
   ]
  },
  {
   "cell_type": "code",
   "execution_count": 4,
   "id": "c2cc56d2",
   "metadata": {},
   "outputs": [],
   "source": [
    "menu_bar= driver.find_element(By.XPATH,'//button[@class=\"o-icon-button lrv-a-unstyle-button lrv-a-unstyle-link lrv-u-cursor-pointer lrv-u-flex js-MegaMenu-Trigger lrv-u-color-grey:hover lrv-a-hover-effect\"]')\n",
    "menu_bar.click()"
   ]
  },
  {
   "cell_type": "code",
   "execution_count": null,
   "id": "b0368b5f",
   "metadata": {},
   "outputs": [],
   "source": [
    "link_but = driver.find_element(By.XPATH,'/html/body/div[3]/div[9]/div/div/div/ul/li[1]/ul/li[2]/a')\n",
    "link_but.click()"
   ]
  },
  {
   "cell_type": "code",
   "execution_count": 6,
   "id": "50c265d3",
   "metadata": {},
   "outputs": [],
   "source": [
    "Song_name=[]\n",
    "Artist_name=[]\n",
    "Last_week_rank=[]\n",
    "Peak_rank=[]\n",
    "Weeks_on_board=[]"
   ]
  },
  {
   "cell_type": "code",
   "execution_count": 8,
   "id": "648c1c6b",
   "metadata": {},
   "outputs": [],
   "source": [
    "\n"
   ]
  },
  {
   "cell_type": "code",
   "execution_count": 11,
   "id": "13d6d3dc",
   "metadata": {},
   "outputs": [],
   "source": [
    "df=pd.DataFrame({\"Song_name\":Song_name,'Artist_name':Artist_name,'Last_week_rank':Last_week_rank,'Peak_rank':Peak_rank,'Weeks_on_board':Weeks_on_board})"
   ]
  },
  {
   "cell_type": "code",
   "execution_count": 12,
   "id": "5b1bb5a5",
   "metadata": {},
   "outputs": [
    {
     "data": {
      "text/html": [
       "<div>\n",
       "<style scoped>\n",
       "    .dataframe tbody tr th:only-of-type {\n",
       "        vertical-align: middle;\n",
       "    }\n",
       "\n",
       "    .dataframe tbody tr th {\n",
       "        vertical-align: top;\n",
       "    }\n",
       "\n",
       "    .dataframe thead th {\n",
       "        text-align: right;\n",
       "    }\n",
       "</style>\n",
       "<table border=\"1\" class=\"dataframe\">\n",
       "  <thead>\n",
       "    <tr style=\"text-align: right;\">\n",
       "      <th></th>\n",
       "      <th>Song_name</th>\n",
       "      <th>Artist_name</th>\n",
       "      <th>Last_week_rank</th>\n",
       "      <th>Peak_rank</th>\n",
       "      <th>Weeks_on_board</th>\n",
       "    </tr>\n",
       "  </thead>\n",
       "  <tbody>\n",
       "    <tr>\n",
       "      <th>0</th>\n",
       "      <td>[&lt;selenium.webdriver.remote.webelement.WebElem...</td>\n",
       "      <td>[&lt;selenium.webdriver.remote.webelement.WebElem...</td>\n",
       "      <td>[&lt;selenium.webdriver.remote.webelement.WebElem...</td>\n",
       "      <td>[&lt;selenium.webdriver.remote.webelement.WebElem...</td>\n",
       "      <td>[&lt;selenium.webdriver.remote.webelement.WebElem...</td>\n",
       "    </tr>\n",
       "  </tbody>\n",
       "</table>\n",
       "</div>"
      ],
      "text/plain": [
       "                                           Song_name  \\\n",
       "0  [<selenium.webdriver.remote.webelement.WebElem...   \n",
       "\n",
       "                                         Artist_name  \\\n",
       "0  [<selenium.webdriver.remote.webelement.WebElem...   \n",
       "\n",
       "                                      Last_week_rank  \\\n",
       "0  [<selenium.webdriver.remote.webelement.WebElem...   \n",
       "\n",
       "                                           Peak_rank  \\\n",
       "0  [<selenium.webdriver.remote.webelement.WebElem...   \n",
       "\n",
       "                                      Weeks_on_board  \n",
       "0  [<selenium.webdriver.remote.webelement.WebElem...  "
      ]
     },
     "execution_count": 12,
     "metadata": {},
     "output_type": "execute_result"
    }
   ],
   "source": [
    "df"
   ]
  },
  {
   "cell_type": "code",
   "execution_count": null,
   "id": "87a0b509",
   "metadata": {},
   "outputs": [],
   "source": [
    "driver.close()"
   ]
  },
  {
   "cell_type": "markdown",
   "id": "5c0c2af4",
   "metadata": {},
   "source": [
    "QUESTION ==6\n",
    "\n",
    "\n",
    "6. Scrape the details of Highest sellingnovels.\n",
    "Url = https://www.theguardian.com/news/datablog/2012/aug/09/best-selling-books-all-time-fifty-shades-greycompare/\n",
    "You have to find the following details:\n",
    "A) Book name\n",
    "B) Author name\n",
    "C) Volumes sold\n",
    "D) Publisher\n",
    "E) Genre"
   ]
  },
  {
   "cell_type": "code",
   "execution_count": 15,
   "id": "c213bca2",
   "metadata": {},
   "outputs": [],
   "source": [
    "import pandas as pd\n",
    "import selenium\n",
    "from selenium import webdriver\n",
    "from selenium.webdriver.common.by import By\n",
    "from selenium.common.exceptions import StaleElementReferenceException, NoSuchElementException\n",
    "\n",
    "import warnings\n",
    "warnings.filterwarnings('ignore')\n",
    "import time"
   ]
  },
  {
   "cell_type": "code",
   "execution_count": 16,
   "id": "fa3bef30",
   "metadata": {},
   "outputs": [],
   "source": [
    "#Install webdriver\n",
    "driver = webdriver.Chrome(r'‪C:\\Users\\govind\\Desktop\\chromedriver.exe')"
   ]
  },
  {
   "cell_type": "code",
   "execution_count": 17,
   "id": "97c685dc",
   "metadata": {},
   "outputs": [],
   "source": [
    "driver.get('https://www.theguardian.com/news/datablog/2012/aug/09/best-selling-books-all-time-fifty-shades-greycompare/')"
   ]
  },
  {
   "cell_type": "code",
   "execution_count": 21,
   "id": "55986f0d",
   "metadata": {},
   "outputs": [],
   "source": [
    "Book_name=[]\n",
    "Author_name=[]\n",
    "Volumes_sold=[]\n",
    "Publisher=[]\n",
    "Genre=[]"
   ]
  },
  {
   "cell_type": "code",
   "execution_count": 20,
   "id": "4513c26a",
   "metadata": {},
   "outputs": [],
   "source": [
    "bk_name=driver.find_elements(By.XPATH,'//td[@id=\"table-cell-10943-0-1\"]')\n",
    "Book_name.append(bk_name)\n",
    "\n",
    "art_name=driver.find_elements(By.XPATH,'//td[@id=\"table-cell-10943-0-2\"]')\n",
    "Author_name.append(art_name)\n",
    "\n",
    "vol_sold=driver.find_elements(By.XPATH,'//td[@id=\"table-cell-10943-0-3\"]')\n",
    "Volumes_sold.append(vol_sold)\n",
    "\n",
    "pub=driver.find_elements(By.XPATH,'//td[@id=\"table-cell-10943-0-4\"]')\n",
    "Publisher.append(pub)\n",
    "\n",
    "genre=driver.find_elements(By.XPATH,'//td[@id=\"table-cell-10943-0-5\"]')\n",
    "Genre.append(genre)"
   ]
  },
  {
   "cell_type": "code",
   "execution_count": 23,
   "id": "10605ce1",
   "metadata": {},
   "outputs": [],
   "source": [
    "df=pd.DataFrame({'Book_name':Book_name,'Author_name':Author_name,'Volumes_sold':Volumes_sold,'Publisher':Publisher,'Genre':Genre})"
   ]
  },
  {
   "cell_type": "code",
   "execution_count": 24,
   "id": "8f97a327",
   "metadata": {},
   "outputs": [
    {
     "data": {
      "text/html": [
       "<div>\n",
       "<style scoped>\n",
       "    .dataframe tbody tr th:only-of-type {\n",
       "        vertical-align: middle;\n",
       "    }\n",
       "\n",
       "    .dataframe tbody tr th {\n",
       "        vertical-align: top;\n",
       "    }\n",
       "\n",
       "    .dataframe thead th {\n",
       "        text-align: right;\n",
       "    }\n",
       "</style>\n",
       "<table border=\"1\" class=\"dataframe\">\n",
       "  <thead>\n",
       "    <tr style=\"text-align: right;\">\n",
       "      <th></th>\n",
       "      <th>Book_name</th>\n",
       "      <th>Author_name</th>\n",
       "      <th>Volumes_sold</th>\n",
       "      <th>Publisher</th>\n",
       "      <th>Genre</th>\n",
       "    </tr>\n",
       "  </thead>\n",
       "  <tbody>\n",
       "  </tbody>\n",
       "</table>\n",
       "</div>"
      ],
      "text/plain": [
       "Empty DataFrame\n",
       "Columns: [Book_name, Author_name, Volumes_sold, Publisher, Genre]\n",
       "Index: []"
      ]
     },
     "execution_count": 24,
     "metadata": {},
     "output_type": "execute_result"
    }
   ],
   "source": [
    "df"
   ]
  },
  {
   "cell_type": "code",
   "execution_count": null,
   "id": "794dedf6",
   "metadata": {},
   "outputs": [],
   "source": []
  },
  {
   "cell_type": "code",
   "execution_count": null,
   "id": "f8eb3cf5",
   "metadata": {},
   "outputs": [],
   "source": []
  },
  {
   "cell_type": "code",
   "execution_count": null,
   "id": "55f906ab",
   "metadata": {},
   "outputs": [],
   "source": []
  },
  {
   "cell_type": "code",
   "execution_count": null,
   "id": "a5e39e02",
   "metadata": {},
   "outputs": [],
   "source": []
  },
  {
   "cell_type": "code",
   "execution_count": null,
   "id": "770c7595",
   "metadata": {},
   "outputs": [],
   "source": []
  }
 ],
 "metadata": {
  "kernelspec": {
   "display_name": "Python 3 (ipykernel)",
   "language": "python",
   "name": "python3"
  },
  "language_info": {
   "codemirror_mode": {
    "name": "ipython",
    "version": 3
   },
   "file_extension": ".py",
   "mimetype": "text/x-python",
   "name": "python",
   "nbconvert_exporter": "python",
   "pygments_lexer": "ipython3",
   "version": "3.9.12"
  }
 },
 "nbformat": 4,
 "nbformat_minor": 5
}
